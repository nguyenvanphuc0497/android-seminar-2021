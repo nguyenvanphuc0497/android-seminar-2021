{
 "cells": [
  {
   "cell_type": "code",
   "execution_count": 3,
   "id": "hearing-dollar",
   "metadata": {},
   "outputs": [],
   "source": [
    "import numpy as np\n",
    "from PIL import Image\n",
    "from mss import mss\n",
    "import cv2\n",
    "\n",
    "BOX_MY_SCREEN = {'left': 410, 'top': 330,\n",
    "                 'width': 1025 - 410, 'height': 480 - 330}\n",
    "\n",
    "\n",
    "def get_box_monitors():\n",
    "    return mss().monitors\n",
    "\n",
    "\n",
    "def showImageScreenShoot(box_frame=BOX_MY_SCREEN):\n",
    "    _img = mss().grab(box_frame)\n",
    "    _img_final = Image.frombytes('RGB', _img.size, _img.bgra, 'raw', 'BGRX')\n",
    "    _img_final.show()\n",
    "\n",
    "\n",
    "def show_image_screen_shoot_by_path(path: str):\n",
    "    _img_final = Image.open(path)\n",
    "    _img_final.show()    \n",
    "    \n",
    "def convert_img_to_array_3(img=None):\n",
    "    if img is None:\n",
    "        img=BOX_MY_SCREEN\n",
    "        _img = mss().grab(img)        \n",
    "    elif type(img) is str:\n",
    "        _img = Image.open(img)    \n",
    "    _np_array = np.array(_img)\n",
    "    return _np_array, _np_array[:, :, :3]\n",
    "\n",
    "\n",
    "def get_sum_array_img(box_frame=BOX_MY_SCREEN):\n",
    "    img = np.array(mss().grab(box_frame))[:,:,:3]\n",
    "    gray = cv2.cvtColor(img, cv2.COLOR_BGR2GRAY)\n",
    "    return gray.sum()\n",
    "\n",
    "def get_sum_array_img_by_path(box_frame=BOX_MY_SCREEN):\n",
    "    img = np.array(mss().grab(box_frame))[:,:,:3]\n",
    "    gray = cv2.cvtColor(img, cv2.COLOR_BGR2GRAY)\n",
    "    return gray.sum()"
   ]
  },
  {
   "cell_type": "code",
   "execution_count": 54,
   "id": "unavailable-sudan",
   "metadata": {},
   "outputs": [
    {
     "data": {
      "text/plain": [
       "280833"
      ]
     },
     "metadata": {},
     "output_type": "display_data"
    }
   ],
   "source": [
    "a,b=convert_img_to_array_3('dingo.png')\n",
    "gray = cv2.cvtColor(b, cv2.COLOR_BGR2GRAY)\n",
    "display(gray.sum())"
   ]
  },
  {
   "cell_type": "code",
   "execution_count": null,
   "id": "related-turtle",
   "metadata": {
    "scrolled": true
   },
   "outputs": [],
   "source": [
    "display(convert_np_array_to_array_3())"
   ]
  },
  {
   "cell_type": "code",
   "execution_count": 6,
   "id": "alike-kingston",
   "metadata": {},
   "outputs": [
    {
     "data": {
      "text/plain": [
       "8186428"
      ]
     },
     "metadata": {},
     "output_type": "display_data"
    }
   ],
   "source": [
    "display(get_sum_array_img())"
   ]
  },
  {
   "cell_type": "code",
   "execution_count": 21,
   "id": "operating-radius",
   "metadata": {},
   "outputs": [],
   "source": [
    "Image.fromar.show()"
   ]
  },
  {
   "cell_type": "code",
   "execution_count": 72,
   "id": "affected-charger",
   "metadata": {},
   "outputs": [
    {
     "name": "stdout",
     "output_type": "stream",
     "text": [
      "a\tb\tc\td\te\n",
      "999\r"
     ]
    }
   ],
   "source": [
    "print('a\\tb\\tc\\td\\te')\n",
    "for i in range(0, 1000):\n",
    "    print(i, sep='',end='\\r',flush=True)"
   ]
  },
  {
   "cell_type": "code",
   "execution_count": 77,
   "id": "bound-exclusion",
   "metadata": {},
   "outputs": [
    {
     "data": {
      "text/plain": [
       "'media/dingo.png'"
      ]
     },
     "execution_count": 77,
     "metadata": {},
     "output_type": "execute_result"
    }
   ],
   "source": [
    "import os\n",
    "os.path.join('media', 'dingo.png')"
   ]
  },
  {
   "cell_type": "code",
   "execution_count": 108,
   "id": "exceptional-assembly",
   "metadata": {},
   "outputs": [
    {
     "data": {
      "text/plain": [
       "array([[[247, 247, 247],\n",
       "        [247, 247, 247],\n",
       "        [247, 247, 247],\n",
       "        ...,\n",
       "        [247, 247, 247],\n",
       "        [247, 247, 247],\n",
       "        [247, 247, 247]],\n",
       "\n",
       "       [[247, 247, 247],\n",
       "        [247, 247, 247],\n",
       "        [247, 247, 247],\n",
       "        ...,\n",
       "        [247, 247, 247],\n",
       "        [247, 247, 247],\n",
       "        [247, 247, 247]],\n",
       "\n",
       "       [[247, 247, 247],\n",
       "        [247, 247, 247],\n",
       "        [247, 247, 247],\n",
       "        ...,\n",
       "        [247, 247, 247],\n",
       "        [247, 247, 247],\n",
       "        [247, 247, 247]],\n",
       "\n",
       "       ...,\n",
       "\n",
       "       [[247, 247, 247],\n",
       "        [247, 247, 247],\n",
       "        [247, 247, 247],\n",
       "        ...,\n",
       "        [247, 247, 247],\n",
       "        [247, 247, 247],\n",
       "        [247, 247, 247]],\n",
       "\n",
       "       [[247, 247, 247],\n",
       "        [247, 247, 247],\n",
       "        [247, 247, 247],\n",
       "        ...,\n",
       "        [247, 247, 247],\n",
       "        [247, 247, 247],\n",
       "        [247, 247, 247]],\n",
       "\n",
       "       [[247, 247, 247],\n",
       "        [247, 247, 247],\n",
       "        [247, 247, 247],\n",
       "        ...,\n",
       "        [247, 247, 247],\n",
       "        [247, 247, 247],\n",
       "        [247, 247, 247]]], dtype=uint8)"
      ]
     },
     "metadata": {},
     "output_type": "display_data"
    }
   ],
   "source": [
    "dino_template = cv2.imread('media/dingo.png', 1)[:,:,:3]\n",
    "display(dino_template)\n",
    "Image.fromarray(dino_template).show()"
   ]
  },
  {
   "cell_type": "code",
   "execution_count": 92,
   "id": "spread-adolescent",
   "metadata": {},
   "outputs": [
    {
     "data": {
      "text/plain": [
       "681"
      ]
     },
     "metadata": {},
     "output_type": "display_data"
    },
    {
     "data": {
      "text/plain": [
       "194"
      ]
     },
     "metadata": {},
     "output_type": "display_data"
    }
   ],
   "source": [
    "# Get width and height of image\n",
    "\n",
    "width_image, height_image = cv2.imread('media/only_dingo.png', 0).shape[::-1]\n",
    "display(width_image, height_image)"
   ]
  },
  {
   "cell_type": "code",
   "execution_count": 93,
   "id": "noble-myrtle",
   "metadata": {},
   "outputs": [
    {
     "name": "stdout",
     "output_type": "stream",
     "text": [
      "[[69 69 69 ... 40 40 40]\n",
      " [69 69 69 ... 40 40 40]\n",
      " [69 69 69 ... 40 40 40]\n",
      " ...\n",
      " [11 11 11 ... 11 10  9]\n",
      " [11 11 11 ... 11 11 10]\n",
      " [11 11 11 ... 11 10 11]]\n"
     ]
    }
   ],
   "source": [
    "# Convert image màu sang image xám\n",
    "\n",
    "image = np.array(Image.open('media/monitor_laptop.png'))[:,:,:3]\n",
    "gray_image = cv2.cvtColor(image, cv2.COLOR_BGR2GRAY)\n",
    "print(gray_image)\n",
    "Image.fromarray(gray_image).show()"
   ]
  },
  {
   "cell_type": "code",
   "execution_count": 10,
   "id": "mysterious-notion",
   "metadata": {},
   "outputs": [
    {
     "data": {
      "text/plain": [
       "{'left': 432, 'top': 333, 'width': 610, 'height': 142}"
      ]
     },
     "metadata": {},
     "output_type": "display_data"
    }
   ],
   "source": [
    "# \n",
    "import os\n",
    "\n",
    "dino_template = cv2.imread('media/dino.png',0)\n",
    "w, h = dino_template.shape[::-1]\n",
    "landscape_template = cv2.imread(os.path.join('media/only_dingo.png'), 0)\n",
    "lw, lh = landscape_template.shape[::-1]\n",
    "\n",
    "\n",
    "image = np.array(Image.open('media/monitor_laptop.png'))[:,:,:3]\n",
    "gray_image = cv2.cvtColor(image, cv2.COLOR_BGR2GRAY)\n",
    "res = cv2.matchTemplate(gray_image, dino_template, cv2.TM_CCOEFF_NORMED)\n",
    "# display(res)\n",
    "loc = np.where(res >= 0.7)\n",
    "monitor=mss().monitors[1]\n",
    "if len(loc[0]):\n",
    "    pt = next(iter(zip(*loc[::-1])))\n",
    "    landscape = dict(monitor, height=lh, left=pt[0], top=pt[1] - lh + h, width=lw)\n",
    "display(landscape)"
   ]
  },
  {
   "cell_type": "code",
   "execution_count": 1,
   "id": "humanitarian-spyware",
   "metadata": {},
   "outputs": [
    {
     "data": {
      "text/plain": [
       "(68, 680, 150, 182)"
      ]
     },
     "execution_count": 1,
     "metadata": {},
     "output_type": "execute_result"
    }
   ],
   "source": [
    "def compute_region_of_interest(landscape):\n",
    "    # tu thong tin ve landscape, ta lay ra duoc 1 vung chua day du cac vat the can\n",
    "    # xem xet, nhung lai nho hon landscape (do do giam duoc khoi luong tinh toan)\n",
    "    ground_height = 12\n",
    "    y1 = landscape['height'] - 44\n",
    "    y2 = landscape['height'] - ground_height\n",
    "    x1 = 44 + 24\n",
    "    x2 = landscape['width'] - 1\n",
    "    return x1, x2, y1, y2\n",
    "compute_region_of_interest({'left': 433, 'top': 272, 'width': 681, 'height': 194})"
   ]
  },
  {
   "cell_type": "code",
   "execution_count": 19,
   "id": "legislative-delaware",
   "metadata": {},
   "outputs": [
    {
     "name": "stdout",
     "output_type": "stream",
     "text": [
      "68 609 98 130\n"
     ]
    }
   ],
   "source": [
    "a=1\n",
    "if a:\n",
    "    print(68, 609, 98, 130)"
   ]
  },
  {
   "cell_type": "code",
   "execution_count": 26,
   "id": "anonymous-sentence",
   "metadata": {},
   "outputs": [
    {
     "data": {
      "text/plain": [
       "1616746251.6206641"
      ]
     },
     "execution_count": 26,
     "metadata": {},
     "output_type": "execute_result"
    }
   ],
   "source": [
    "import time\n",
    "time.time()\n"
   ]
  },
  {
   "cell_type": "code",
   "execution_count": 27,
   "id": "alleged-municipality",
   "metadata": {},
   "outputs": [
    {
     "data": {
      "text/plain": [
       "[]"
      ]
     },
     "metadata": {},
     "output_type": "display_data"
    },
    {
     "data": {
      "text/plain": [
       "11"
      ]
     },
     "metadata": {},
     "output_type": "display_data"
    },
    {
     "data": {
      "text/plain": [
       "11"
      ]
     },
     "metadata": {},
     "output_type": "display_data"
    },
    {
     "data": {
      "text/plain": [
       "11"
      ]
     },
     "metadata": {},
     "output_type": "display_data"
    }
   ],
   "source": [
    "a=[]\n",
    "display(a)\n",
    "a.append(11)\n",
    "display(a[0])\n",
    "a.append(12)\n",
    "display(a[0])\n",
    "a.append(13)\n",
    "\n",
    "display(a[0])\n"
   ]
  },
  {
   "cell_type": "code",
   "execution_count": null,
   "id": "retained-navigator",
   "metadata": {},
   "outputs": [],
   "source": []
  }
 ],
 "metadata": {
  "kernelspec": {
   "display_name": "Python 3",
   "language": "python",
   "name": "python3"
  },
  "language_info": {
   "codemirror_mode": {
    "name": "ipython",
    "version": 3
   },
   "file_extension": ".py",
   "mimetype": "text/x-python",
   "name": "python",
   "nbconvert_exporter": "python",
   "pygments_lexer": "ipython3",
   "version": "3.9.1"
  }
 },
 "nbformat": 4,
 "nbformat_minor": 5
}
