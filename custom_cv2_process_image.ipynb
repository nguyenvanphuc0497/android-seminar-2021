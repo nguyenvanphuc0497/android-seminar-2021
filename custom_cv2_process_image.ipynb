{
 "cells": [
  {
   "cell_type": "code",
   "execution_count": 46,
   "id": "hearing-dollar",
   "metadata": {},
   "outputs": [],
   "source": [
    "import numpy as np\n",
    "from PIL import Image\n",
    "from mss import mss\n",
    "import cv2\n",
    "\n",
    "BOX_MY_SCREEN = {'left': 410, 'top': 330,\n",
    "                 'width': 1025 - 410, 'height': 480 - 330}\n",
    "\n",
    "\n",
    "def get_box_monitors():\n",
    "    return mss().monitors\n",
    "\n",
    "\n",
    "def showImageScreenShoot(box_frame=BOX_MY_SCREEN):\n",
    "    _img = mss().grab(box_frame)\n",
    "    _img_final = Image.frombytes('RGB', _img.size, _img.bgra, 'raw', 'BGRX')\n",
    "    _img_final.show()\n",
    "\n",
    "\n",
    "def show_image_screen_shoot_by_path(path: str):\n",
    "    _img_final = Image.open(path)\n",
    "    _img_final.show()    \n",
    "    \n",
    "def convert_img_to_array_3(img=None):\n",
    "    if img is None:\n",
    "        img=BOX_MY_SCREEN\n",
    "        _img = mss().grab(img)        \n",
    "    elif type(img) is str:\n",
    "        _img = Image.open(img)    \n",
    "    _np_array = np.array(_img)\n",
    "    return _np_array, _np_array[:, :, :3]\n",
    "\n",
    "\n",
    "def get_sum_array_img(box_frame=BOX_MY_SCREEN):\n",
    "    img = np.array(mss().grab(box_frame))[:,:,:3]\n",
    "    gray = cv2.cvtColor(img, cv2.COLOR_BGR2GRAY)\n",
    "    return gray.sum()\n",
    "\n",
    "def get_sum_array_img_by_path(box_frame=BOX_MY_SCREEN):\n",
    "    img = np.array(mss().grab(box_frame))[:,:,:3]\n",
    "    gray = cv2.cvtColor(img, cv2.COLOR_BGR2GRAY)\n",
    "    return gray.sum()"
   ]
  },
  {
   "cell_type": "code",
   "execution_count": 54,
   "id": "unavailable-sudan",
   "metadata": {},
   "outputs": [
    {
     "data": {
      "text/plain": [
       "280833"
      ]
     },
     "metadata": {},
     "output_type": "display_data"
    }
   ],
   "source": [
    "a,b=convert_img_to_array_3('dingo.png')\n",
    "gray = cv2.cvtColor(b, cv2.COLOR_BGR2GRAY)\n",
    "display(gray.sum())"
   ]
  },
  {
   "cell_type": "code",
   "execution_count": null,
   "id": "related-turtle",
   "metadata": {
    "scrolled": true
   },
   "outputs": [],
   "source": [
    "display(convert_np_array_to_array_3())"
   ]
  },
  {
   "cell_type": "code",
   "execution_count": 6,
   "id": "alike-kingston",
   "metadata": {},
   "outputs": [
    {
     "data": {
      "text/plain": [
       "8186428"
      ]
     },
     "metadata": {},
     "output_type": "display_data"
    }
   ],
   "source": [
    "display(get_sum_array_img())"
   ]
  },
  {
   "cell_type": "code",
   "execution_count": 21,
   "id": "brilliant-filing",
   "metadata": {},
   "outputs": [],
   "source": [
    "Image.fromar.show()"
   ]
  },
  {
   "cell_type": "code",
   "execution_count": null,
   "id": "genuine-belly",
   "metadata": {},
   "outputs": [],
   "source": []
  }
 ],
 "metadata": {
  "kernelspec": {
   "display_name": "Python 3",
   "language": "python",
   "name": "python3"
  },
  "language_info": {
   "codemirror_mode": {
    "name": "ipython",
    "version": 3
   },
   "file_extension": ".py",
   "mimetype": "text/x-python",
   "name": "python",
   "nbconvert_exporter": "python",
   "pygments_lexer": "ipython3",
   "version": "3.9.1"
  }
 },
 "nbformat": 4,
 "nbformat_minor": 5
}
